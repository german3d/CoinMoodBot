{
 "cells": [
  {
   "cell_type": "code",
   "execution_count": 7,
   "metadata": {
    "ExecuteTime": {
     "end_time": "2018-07-23T19:29:12.579172Z",
     "start_time": "2018-07-23T19:29:12.552538Z"
    },
    "collapsed": true
   },
   "outputs": [],
   "source": [
    "import os, sys\n",
    "\n",
    "parent_path = os.path.abspath(os.pardir)\n",
    "if parent_path not in sys.path:\n",
    "    sys.path.insert(0, parent_path)"
   ]
  },
  {
   "cell_type": "code",
   "execution_count": 50,
   "metadata": {
    "ExecuteTime": {
     "end_time": "2018-07-23T19:44:05.303728Z",
     "start_time": "2018-07-23T19:44:05.270451Z"
    }
   },
   "outputs": [
    {
     "name": "stdout",
     "output_type": "stream",
     "text": [
      "The autoreload extension is already loaded. To reload it, use:\n",
      "  %reload_ext autoreload\n"
     ]
    }
   ],
   "source": [
    "import re\n",
    "import emoji\n",
    "import pandas as pd\n",
    "import numpy as np\n",
    "import matplotlib.pyplot as plt\n",
    "import seaborn as sns\n",
    "from sklearn.cluster import dbscan\n",
    "from sklearn.feature_extraction.text import CountVectorizer, TfidfVectorizer\n",
    "from sklearn.linear_model import LogisticRegression\n",
    "from sklearn.model_selection import GridSearchCV, RepeatedStratifiedKFold, learning_curve\n",
    "from sklearn.pipeline import Pipeline, FeatureUnion\n",
    "from sklearn.exceptions import UndefinedMetricWarning\n",
    "from sklearn.base import BaseEstimator, TransformerMixin\n",
    "from sklearn.metrics import pairwise_distances\n",
    "from vaderSentiment.vaderSentiment import SentimentIntensityAnalyzer\n",
    "from text.contractions import contractions_dict\n",
    "from text.processing import TweetProcessor\n",
    "\n",
    "import warnings\n",
    "warnings.filterwarnings(\"ignore\", category=UndefinedMetricWarning)\n",
    "\n",
    "%load_ext autoreload\n",
    "%autoreload 2"
   ]
  },
  {
   "cell_type": "markdown",
   "metadata": {},
   "source": [
    "Load labeled data"
   ]
  },
  {
   "cell_type": "code",
   "execution_count": 20,
   "metadata": {
    "ExecuteTime": {
     "end_time": "2018-07-23T19:34:04.934987Z",
     "start_time": "2018-07-23T19:34:04.897886Z"
    }
   },
   "outputs": [
    {
     "name": "stdout",
     "output_type": "stream",
     "text": [
      "(1143, 3)\n"
     ]
    },
    {
     "data": {
      "text/html": [
       "<div>\n",
       "<style scoped>\n",
       "    .dataframe tbody tr th:only-of-type {\n",
       "        vertical-align: middle;\n",
       "    }\n",
       "\n",
       "    .dataframe tbody tr th {\n",
       "        vertical-align: top;\n",
       "    }\n",
       "\n",
       "    .dataframe thead th {\n",
       "        text-align: right;\n",
       "    }\n",
       "</style>\n",
       "<table border=\"1\" class=\"dataframe\">\n",
       "  <thead>\n",
       "    <tr style=\"text-align: right;\">\n",
       "      <th></th>\n",
       "      <th>tweet_id</th>\n",
       "      <th>text</th>\n",
       "      <th>label</th>\n",
       "    </tr>\n",
       "  </thead>\n",
       "  <tbody>\n",
       "    <tr>\n",
       "      <th>0</th>\n",
       "      <td>1010305263885279233</td>\n",
       "      <td>Btc was jus under 6k</td>\n",
       "      <td>-1.0</td>\n",
       "    </tr>\n",
       "    <tr>\n",
       "      <th>1</th>\n",
       "      <td>1010307132040699904</td>\n",
       "      <td>Bitcoin Drops to Within 2018 Low Close to $6,0...</td>\n",
       "      <td>-1.0</td>\n",
       "    </tr>\n",
       "  </tbody>\n",
       "</table>\n",
       "</div>"
      ],
      "text/plain": [
       "              tweet_id                                               text  \\\n",
       "0  1010305263885279233                               Btc was jus under 6k   \n",
       "1  1010307132040699904  Bitcoin Drops to Within 2018 Low Close to $6,0...   \n",
       "\n",
       "   label  \n",
       "0   -1.0  \n",
       "1   -1.0  "
      ]
     },
     "execution_count": 20,
     "metadata": {},
     "output_type": "execute_result"
    }
   ],
   "source": [
    "#tweet = pd.read_csv(\"tweets.txt\", \n",
    "#                    sep=\"<_;_>\", \n",
    "#                    parse_dates=[\"timestamp\"], \n",
    "#                    error_bad_lines=False, \n",
    "#                    engine=\"python\"\n",
    "#                   )\n",
    "\n",
    "tweet = pd.read_csv(\"tweets_bitcoin_labels.csv\")\n",
    "\n",
    "print(tweet.shape)\n",
    "tweet.head(2)"
   ]
  },
  {
   "cell_type": "markdown",
   "metadata": {},
   "source": [
    "Process raw texts"
   ]
  },
  {
   "cell_type": "code",
   "execution_count": 51,
   "metadata": {
    "ExecuteTime": {
     "end_time": "2018-07-23T19:45:12.847711Z",
     "start_time": "2018-07-23T19:45:10.361399Z"
    }
   },
   "outputs": [],
   "source": [
    "tweet[\"text_clean\"] = np.nan\n",
    "\n",
    "for i,row in tweet.iterrows():\n",
    "    processor = TweetProcessor(row.text)\n",
    "    processor.process_text()\n",
    "    tweet.loc[i, \"text_clean\"] = processor.text\n",
    "    \n",
    "tweet.head(2)"
   ]
  },
  {
   "cell_type": "markdown",
   "metadata": {},
   "source": [
    "Remove duplicates"
   ]
  },
  {
   "cell_type": "code",
   "execution_count": 52,
   "metadata": {
    "ExecuteTime": {
     "end_time": "2018-07-23T19:46:08.857210Z",
     "start_time": "2018-07-23T19:46:08.828647Z"
    },
    "collapsed": true
   },
   "outputs": [],
   "source": [
    "def _remove_technical_words(texts):\n",
    "    def _replace_multiple(text, repl_dict):\n",
    "        regex = re.compile(\"(%s)\" % \"|\".join(map(re.escape, repl_dict.keys())))\n",
    "        return regex.sub(lambda x: repl_dict[x.string[x.start(): x.end()]], text)\n",
    "    repl_dict = {\"num\":\"\", \"url\": \"\"}\n",
    "    return texts.map(lambda x: _replace_multiple(x, repl_dict))\n",
    "\n",
    "def text_clustering(texts, vocab_size=None):    \n",
    "    texts = _remove_technical_words(texts).map(lambda x: \" \".join(x.split()))\n",
    "    texts.replace({\"\": \"empty_text\"}, inplace=True)\n",
    "    vectors = CountVectorizer(max_features=vocab_size).fit_transform(texts)\n",
    "    D = pairwise_distances(vectors, metric=\"manhattan\")\n",
    "    _, cluster_idxs = dbscan(D, eps=4, min_samples=1, metric=\"precomputed\")\n",
    "    return cluster_idxs"
   ]
  },
  {
   "cell_type": "code",
   "execution_count": 53,
   "metadata": {
    "ExecuteTime": {
     "end_time": "2018-07-23T19:46:12.167315Z",
     "start_time": "2018-07-23T19:46:11.280318Z"
    }
   },
   "outputs": [
    {
     "name": "stdout",
     "output_type": "stream",
     "text": [
      "(1139, 12)\n"
     ]
    },
    {
     "data": {
      "image/png": "[encoded data removed]",
      "text/plain": [
       "<Figure size 432x288 with 1 Axes>"
      ]
     },
     "metadata": {},
     "output_type": "display_data"
    }
   ],
   "source": [
    "tweet[\"cluster_idx\"] = text_clustering(tweet[\"text_clean\"])\n",
    "tweet.drop_duplicates(subset=[\"cluster_idx\"], inplace=True)\n",
    "\n",
    "print(tweet.shape)\n",
    "tweet[\"label\"].hist();"
   ]
  },
  {
   "cell_type": "markdown",
   "metadata": {},
   "source": [
    "Add other features"
   ]
  },
  {
   "cell_type": "code",
   "execution_count": 46,
   "metadata": {
    "ExecuteTime": {
     "end_time": "2018-07-23T19:41:52.227323Z",
     "start_time": "2018-07-23T19:41:52.197463Z"
    },
    "collapsed": true
   },
   "outputs": [],
   "source": [
    "def add_extra_features(tweet):\n",
    "    # Length-based features\n",
    "    tweet[\"text_len\"] = tweet[\"text_clean\"].str.len()\n",
    "    tweet[\"num_words\"] = tweet[\"text_clean\"].str.split().map(len)\n",
    "    tweet[\"avg_word_len\"] = tweet[\"text_clean\"].str.split().map(lambda x: len(\"\".join(x))) / tweet[\"num_words\"]\n",
    "\n",
    "    # Vader sentiment\n",
    "    tweet[\"vader_pos\"] = np.nan\n",
    "    tweet[\"vader_neg\"] = np.nan\n",
    "    tweet[\"vader_neu\"] = np.nan\n",
    "    tweet[\"vader_comp\"] = np.nan\n",
    "    vader_analyzer = SentimentIntensityAnalyzer()\n",
    "    for i,row in tweet.iterrows():\n",
    "        vader_output = vader_analyzer.polarity_scores(row.text)\n",
    "        tweet.loc[i, \"vader_pos\"] = vader_output[\"pos\"]\n",
    "        tweet.loc[i, \"vader_neg\"] = vader_output[\"neg\"]\n",
    "        tweet.loc[i, \"vader_neu\"] = vader_output[\"neu\"]\n",
    "        tweet.loc[i, \"vader_comp\"] = vader_output[\"compound\"]\n",
    "    return tweet"
   ]
  },
  {
   "cell_type": "code",
   "execution_count": 47,
   "metadata": {
    "ExecuteTime": {
     "end_time": "2018-07-23T19:41:57.168179Z",
     "start_time": "2018-07-23T19:41:55.015126Z"
    },
    "collapsed": true
   },
   "outputs": [],
   "source": [
    "tweet = add_extra_features(tweet)"
   ]
  },
  {
   "cell_type": "markdown",
   "metadata": {},
   "source": [
    "### Modeling"
   ]
  },
  {
   "cell_type": "code",
   "execution_count": 48,
   "metadata": {
    "ExecuteTime": {
     "end_time": "2018-07-23T19:41:57.940760Z",
     "start_time": "2018-07-23T19:41:57.912325Z"
    },
    "collapsed": true
   },
   "outputs": [],
   "source": [
    "class TextStats(BaseEstimator, TransformerMixin):\n",
    "    def fit(self, X, y=None):\n",
    "        self.cols_to_use = [\"text_len\",  \"num_words\", \"avg_word_len\", \n",
    "                            \"vader_pos\",  \"vader_neg\", \"vader_neu\", \"vader_pos\", \n",
    "                            \"vader_comp\"\n",
    "                           ]\n",
    "        return self\n",
    "    \n",
    "    def transform(self, data):\n",
    "        return data[self.cols_to_use]\n",
    "\n",
    "    \n",
    "class ItemSelector(BaseEstimator, TransformerMixin):\n",
    "    def __init__(self, key):\n",
    "        self.key = key\n",
    "\n",
    "    def fit(self, X, y=None):\n",
    "        return self\n",
    "\n",
    "    def transform(self, data_dict):\n",
    "        return data_dict[self.key]"
   ]
  },
  {
   "cell_type": "code",
   "execution_count": 49,
   "metadata": {
    "ExecuteTime": {
     "end_time": "2018-07-23T19:42:10.556668Z",
     "start_time": "2018-07-23T19:42:02.654882Z"
    },
    "scrolled": true
   },
   "outputs": [
    {
     "name": "stdout",
     "output_type": "stream",
     "text": [
      "Fitting 100 folds for each of 1 candidates, totalling 100 fits\n"
     ]
    },
    {
     "name": "stderr",
     "output_type": "stream",
     "text": [
      "[Parallel(n_jobs=-1)]: Done  42 tasks      | elapsed:    3.1s\n",
      "[Parallel(n_jobs=-1)]: Done 100 out of 100 | elapsed:    7.4s finished\n"
     ]
    },
    {
     "name": "stdout",
     "output_type": "stream",
     "text": [
      "best params: {'classify__C': 0.5, 'classify__penalty': 'l1', 'features__bag_of_words__vectorizer__binary': False, 'features__bag_of_words__vectorizer__lowercase': True, 'features__bag_of_words__vectorizer__max_features': 1500, 'features__bag_of_words__vectorizer__ngram_range': (1, 2), 'features__bag_of_words__vectorizer__norm': None, 'features__bag_of_words__vectorizer__smooth_idf': False, 'features__bag_of_words__vectorizer__stop_words': None, 'features__bag_of_words__vectorizer__sublinear_tf': False, 'features__bag_of_words__vectorizer__use_idf': False}\n",
      "best test F1: 0.61\n",
      "best test precision: 0.64\n",
      "best test recall: 0.60\n",
      "CPU times: user 594 ms, sys: 75.9 ms, total: 670 ms\n",
      "Wall time: 7.86 s\n"
     ]
    }
   ],
   "source": [
    "%%time\n",
    "\n",
    "cv = RepeatedStratifiedKFold(n_splits=10, n_repeats=10, random_state=13)\n",
    "\n",
    "combined_features = FeatureUnion([(\"bag_of_words\", Pipeline([(\"selector\", \n",
    "                                                              ItemSelector(key=\"text_clean\")),\n",
    "                                                             (\"vectorizer\", \n",
    "                                                              TfidfVectorizer(analyzer=\"word\")),                                                             \n",
    "                                                            ])),\n",
    "                                 # (\"LDA\", Pipeline([(\"selector\", \n",
    "                                 #                    ItemSelector(key=\"text_clean\")),\n",
    "                                 #                   (\"vectorizer\", \n",
    "                                 #                    TfidfVectorizer(analyzer=\"word\")),\n",
    "                                 #                   (\"decompositor\", \n",
    "                                 #                    LatentDirichletAllocation(\n",
    "                                 #                        learning_method=\"batch\",\n",
    "                                 #                        random_state=13))\n",
    "                                 #                  ])),\n",
    "                                  (\"extractor_pipe\", TextStats())\n",
    "                                 ])\n",
    "\n",
    "pipe = Pipeline([\n",
    "    (\"features\", combined_features),\n",
    "    (\"classify\", LogisticRegression(class_weight=\"balanced\"))\n",
    "])\n",
    "\n",
    "param_grid = {# Logistic regression\n",
    "              \"classify__C\": [.5],\n",
    "              \"classify__penalty\": [\"l1\"],\n",
    "              # Bag-of-words\n",
    "              \"features__bag_of_words__vectorizer__binary\": [False],\n",
    "              \"features__bag_of_words__vectorizer__stop_words\": [None],\n",
    "              \"features__bag_of_words__vectorizer__lowercase\": [True],\n",
    "              \"features__bag_of_words__vectorizer__max_features\": [1500],\n",
    "              \"features__bag_of_words__vectorizer__ngram_range\": [(1,2)],\n",
    "              \"features__bag_of_words__vectorizer__use_idf\": [False],\n",
    "              \"features__bag_of_words__vectorizer__smooth_idf\": [False],\n",
    "              \"features__bag_of_words__vectorizer__norm\": [None],\n",
    "              \"features__bag_of_words__vectorizer__sublinear_tf\": [False],\n",
    "              # LDA\n",
    "              #\"features__LDA__vectorizer__stop_words\": [None],\n",
    "              #\"features__LDA__vectorizer__lowercase\": [True],\n",
    "              #\"features__LDA__vectorizer__max_features\": [500],\n",
    "              #\"features__LDA__vectorizer__ngram_range\": [(1,1)],\n",
    "              #\"features__LDA__vectorizer__use_idf\": [False],\n",
    "              #\"features__LDA__vectorizer__smooth_idf\": [False],\n",
    "              #\"features__LDA__vectorizer__norm\": [None],\n",
    "              #\"features__LDA__vectorizer__sublinear_tf\": [False],\n",
    "              #\"features__LDA__decompositor__n_components\": [2],\n",
    "              #\"features__LDA__decompositor__max_iter\": [10],\n",
    "             }\n",
    "\n",
    "grid_search = GridSearchCV(estimator=pipe,\n",
    "                           param_grid=param_grid,\n",
    "                           scoring=[\"f1_macro\", \"precision_macro\", \"recall_macro\"],\n",
    "                           cv=cv,\n",
    "                           refit=\"f1_macro\",\n",
    "                           verbose=1,\n",
    "                           n_jobs=-1,\n",
    "                           return_train_score=True);\n",
    "\n",
    "grid_search.fit(tweet, tweet.label);\n",
    "best_ind = grid_search.best_index_\n",
    "\n",
    "print(\"best params: {}\".format(grid_search.best_params_))\n",
    "print(\"best test F1: {:.2f}\".format(grid_search.cv_results_[\"mean_test_f1_macro\"][best_ind]))\n",
    "print(\"best test precision: {:.2f}\".format(grid_search.cv_results_[\"mean_test_precision_macro\"][best_ind]))\n",
    "print(\"best test recall: {:.2f}\".format(grid_search.cv_results_[\"mean_test_recall_macro\"][best_ind]))"
   ]
  },
  {
   "cell_type": "code",
   "execution_count": 220,
   "metadata": {
    "ExecuteTime": {
     "end_time": "2018-07-21T21:26:07.838508Z",
     "start_time": "2018-07-21T21:26:07.803488Z"
    },
    "collapsed": true
   },
   "outputs": [],
   "source": [
    "def plot_coefficients(gs, label=\"positive\", num=30):\n",
    "    labels = {\"positive\": 2, \"neutral\": 1, \"negative\":0}\n",
    "    ind = labels[label]\n",
    "    coefs_pos = gs.best_estimator_.steps[1][1].coef_[ind,:]\n",
    "    idxs_sorted = np.argsort(np.abs(coefs_pos))[::-1][:num]\n",
    "    \n",
    "    feature_union = gs.best_estimator_.steps[0][1].transformer_list\n",
    "    vectors_bow = feature_union[0][1].steps[1][1]\n",
    "    vocab_bow = {v:k for k,v in vectors_bow.vocabulary_.items()}    \n",
    "    n_features = max(vocab_bow.keys())\n",
    "    feature_dict = vocab_bow\n",
    "    \n",
    "    if \"features__LDA__decompositor__n_components\" in gs.best_params_:\n",
    "        n_topics = grid_search.best_params_[\"features__LDA__decompositor__n_components\"]\n",
    "        lda_dict = dict(zip(range(n_features + 1, n_features + 1 + n_topics), \n",
    "                            [\"LDA topic #\" + str(x) for x in range(n_topics)]))\n",
    "        feature_dict = {**feature_dict, **lda_dict}\n",
    "        n_features += n_topics\n",
    "    \n",
    "    other_cols = feature_union[-1][1].cols_to_use    \n",
    "    other_dict = dict(zip(range(n_features + 1, n_features + 1 + len(other_cols)), other_cols))\n",
    "    feature_dict = {**feature_dict, **other_dict}\n",
    "    coefs = coefs_pos[idxs_sorted]\n",
    "    words = [feature_dict[i] for i in idxs_sorted]\n",
    "    words_emoji = [\":\" + w + \":\" if \":\" + w + \":\" in emoji.EMOJI_ALIAS_UNICODE else w for w in words]\n",
    "    colors = [\"red\" if x<0 else \"green\" for x in coefs]\n",
    "\n",
    "    fig, ax = plt.subplots(figsize=(16,4))\n",
    "    sns.barplot(x=words_emoji, y=np.abs(coefs), palette=colors);\n",
    "    sns.despine();\n",
    "    plt.xticks(rotation=60, fontsize=9);\n",
    "    ax.grid(axis=\"y\", linestyle=\"--\", color=\"gray\");\n",
    "    ax.set_title(f\"Top {num} coefficients for {label} class\");"
   ]
  },
  {
   "cell_type": "code",
   "execution_count": 224,
   "metadata": {
    "ExecuteTime": {
     "end_time": "2018-07-21T21:26:43.720594Z",
     "start_time": "2018-07-21T21:26:43.297047Z"
    }
   },
   "outputs": [
    {
     "data": {
      "image/png": "[encoded data removed]",
      "text/plain": [
       "<Figure size 1152x288 with 1 Axes>"
      ]
     },
     "metadata": {},
     "output_type": "display_data"
    }
   ],
   "source": [
    "plot_coefficients(grid_search, label=\"positive\", num=30)"
   ]
  },
  {
   "cell_type": "code",
   "execution_count": 225,
   "metadata": {
    "ExecuteTime": {
     "end_time": "2018-07-21T21:26:46.383412Z",
     "start_time": "2018-07-21T21:26:46.356500Z"
    },
    "collapsed": true
   },
   "outputs": [],
   "source": [
    "def plot_learning_curve(**kwargs):\n",
    "    plt.figure(figsize=(10,6))\n",
    "    train_scores_mean = np.mean(train_scores, axis=1)\n",
    "    train_scores_std = np.std(train_scores, axis=1)\n",
    "    test_scores_mean = np.mean(test_scores, axis=1)\n",
    "    test_scores_std = np.std(test_scores, axis=1)\n",
    "\n",
    "    plt.fill_between(train_sizes, train_scores_mean - train_scores_std,\n",
    "                     train_scores_mean + train_scores_std, alpha=0.1,\n",
    "                     color=\"r\")\n",
    "    plt.fill_between(train_sizes, test_scores_mean - test_scores_std,\n",
    "                     test_scores_mean + test_scores_std, alpha=0.1, color=\"g\")\n",
    "    plt.plot(train_sizes, train_scores_mean, '.-', color=\"r\",\n",
    "             label=\"Training score\")\n",
    "    plt.plot(train_sizes, test_scores_mean, '.-', color=\"g\",\n",
    "             label=\"Cross-validation score\")\n",
    "\n",
    "    plt.title(\"Learning curve\")\n",
    "    plt.legend(loc=\"best\");\n",
    "    plt.grid();\n",
    "    plt.xlabel(\"Training examples\");\n",
    "    plt.ylabel(\"Score\");"
   ]
  },
  {
   "cell_type": "code",
   "execution_count": 226,
   "metadata": {
    "ExecuteTime": {
     "end_time": "2018-07-21T21:27:02.304100Z",
     "start_time": "2018-07-21T21:26:47.211103Z"
    }
   },
   "outputs": [
    {
     "name": "stdout",
     "output_type": "stream",
     "text": [
      "[learning_curve] Training set sizes: [ 409  477  545  613  682  750  818  886  954 1023]\n"
     ]
    },
    {
     "name": "stderr",
     "output_type": "stream",
     "text": [
      "[Parallel(n_jobs=-1)]: Done 1000 out of 1000 | elapsed:   14.5s finished\n"
     ]
    },
    {
     "data": {
      "image/png": "[encoded data removed]",
      "text/plain": [
       "<Figure size 720x432 with 1 Axes>"
      ]
     },
     "metadata": {},
     "output_type": "display_data"
    }
   ],
   "source": [
    "train_sizes, train_scores, test_scores = \\\n",
    "learning_curve(estimator=pipe,\n",
    "               train_sizes=np.linspace(start=0.4, stop=1.0, num=10),\n",
    "               X=tweet,\n",
    "               y=tweet.label,\n",
    "               cv=cv,\n",
    "               scoring=\"f1_macro\",\n",
    "               n_jobs=-1,\n",
    "               verbose=1,\n",
    "               random_state=13\n",
    "              )\n",
    "\n",
    "plot_learning_curve(train_sizes=train_sizes, train_scores=train_scores, test_scores=test_scores)"
   ]
  },
  {
   "cell_type": "code",
   "execution_count": 227,
   "metadata": {
    "ExecuteTime": {
     "end_time": "2018-07-21T21:27:17.983393Z",
     "start_time": "2018-07-21T21:27:11.367365Z"
    }
   },
   "outputs": [
    {
     "name": "stdout",
     "output_type": "stream",
     "text": [
      "Fitting 100 folds for each of 1 candidates, totalling 100 fits\n"
     ]
    },
    {
     "name": "stderr",
     "output_type": "stream",
     "text": [
      "[Parallel(n_jobs=-1)]: Done  42 tasks      | elapsed:    2.7s\n",
      "[Parallel(n_jobs=-1)]: Done 100 out of 100 | elapsed:    6.0s finished\n"
     ]
    },
    {
     "name": "stdout",
     "output_type": "stream",
     "text": [
      "Normalized confusion matrix\n"
     ]
    },
    {
     "data": {
      "image/png": "[encoded data removed]",
      "text/plain": [
       "<Figure size 432x288 with 2 Axes>"
      ]
     },
     "metadata": {},
     "output_type": "display_data"
    }
   ],
   "source": [
    "from sklearn.metrics import confusion_matrix\n",
    "from sklearn.model_selection import train_test_split\n",
    "import itertools\n",
    "\n",
    "def plot_confusion_matrix(cm, \n",
    "                          classes,\n",
    "                          normalize=False,\n",
    "                          title='Confusion matrix',\n",
    "                          cmap=plt.cm.Blues):\n",
    "    if normalize:\n",
    "        cm = cm.astype('float') / cm.sum(axis=1)[:, np.newaxis]\n",
    "        print(\"Normalized confusion matrix\")\n",
    "    else:\n",
    "        print('Confusion matrix, without normalization')\n",
    "    #print(cm)\n",
    "    plt.imshow(cm, interpolation='nearest', cmap=cmap)\n",
    "    plt.title(title)\n",
    "    plt.colorbar()\n",
    "    tick_marks = np.arange(len(classes))\n",
    "    plt.xticks(tick_marks, classes, rotation=45)\n",
    "    plt.yticks(tick_marks, classes)\n",
    "\n",
    "    fmt = '.2f' if normalize else 'd'\n",
    "    thresh = cm.max() / 2.\n",
    "    for i, j in itertools.product(range(cm.shape[0]), range(cm.shape[1])):\n",
    "        plt.text(j, i, format(cm[i, j], fmt),\n",
    "                 horizontalalignment=\"center\",\n",
    "                 color=\"white\" if cm[i, j] > thresh else \"black\")\n",
    "\n",
    "    plt.tight_layout()\n",
    "    plt.ylabel('True label')\n",
    "    plt.xlabel('Predicted label')\n",
    "\n",
    "\n",
    "X_train, X_test, y_train, y_test = train_test_split(tweet, tweet.label, test_size=0.3, random_state=13)\n",
    "grid_search.fit(X_train, y_train);\n",
    "    \n",
    "# Compute confusion matrix\n",
    "cnf_matrix = confusion_matrix(y_test, grid_search.predict(X_test))\n",
    "np.set_printoptions(precision=2)\n",
    "\n",
    "# Plot normalized confusion matrix\n",
    "plot_confusion_matrix(cnf_matrix,\n",
    "                      classes=[\"negative\", \"neutral\", \"positive\"], \n",
    "                      normalize=True,\n",
    "                      title='Normalized confusion matrix')"
   ]
  },
  {
   "cell_type": "markdown",
   "metadata": {},
   "source": [
    "Make out-of-sample predictions"
   ]
  },
  {
   "cell_type": "code",
   "execution_count": 94,
   "metadata": {
    "ExecuteTime": {
     "end_time": "2018-07-18T23:06:34.258888Z",
     "start_time": "2018-07-18T23:06:32.376363Z"
    },
    "collapsed": true
   },
   "outputs": [],
   "source": [
    "data = pd.read_csv(\"tweets.txt\", sep=\"<_;_>\", engine=\"python\")\n",
    "data = data.loc[data.asset==\"Bitcoin\"]"
   ]
  },
  {
   "cell_type": "code",
   "execution_count": 95,
   "metadata": {
    "ExecuteTime": {
     "end_time": "2018-07-18T23:09:29.190990Z",
     "start_time": "2018-07-18T23:06:36.100586Z"
    },
    "scrolled": true
   },
   "outputs": [
    {
     "name": "stdout",
     "output_type": "stream",
     "text": [
      "(148922, 9)\n"
     ]
    }
   ],
   "source": [
    "data[\"text_clean\"] = data[\"text\"].map(process_text)\n",
    "print(data.shape)"
   ]
  },
  {
   "cell_type": "code",
   "execution_count": 96,
   "metadata": {
    "ExecuteTime": {
     "end_time": "2018-07-18T23:09:29.443073Z",
     "start_time": "2018-07-18T23:09:29.193103Z"
    }
   },
   "outputs": [
    {
     "name": "stdout",
     "output_type": "stream",
     "text": [
      "(147801, 9)\n"
     ]
    }
   ],
   "source": [
    "data = data.loc[~data.tweet_id.isin(tweet.tweet_id)]\n",
    "print(data.shape)"
   ]
  },
  {
   "cell_type": "code",
   "execution_count": 97,
   "metadata": {
    "ExecuteTime": {
     "end_time": "2018-07-18T23:09:29.690673Z",
     "start_time": "2018-07-18T23:09:29.445318Z"
    }
   },
   "outputs": [
    {
     "name": "stdout",
     "output_type": "stream",
     "text": [
      "(84204, 9)\n"
     ]
    }
   ],
   "source": [
    "data.drop_duplicates(subset=[\"text_clean\"], inplace=True)\n",
    "print(data.shape)"
   ]
  },
  {
   "cell_type": "code",
   "execution_count": 98,
   "metadata": {
    "ExecuteTime": {
     "end_time": "2018-07-18T23:13:26.615781Z",
     "start_time": "2018-07-18T23:09:56.455685Z"
    }
   },
   "outputs": [
    {
     "name": "stdout",
     "output_type": "stream",
     "text": [
      "(84204, 16)\n"
     ]
    }
   ],
   "source": [
    "data = add_extra_features(data)\n",
    "print(data.shape)"
   ]
  },
  {
   "cell_type": "code",
   "execution_count": 100,
   "metadata": {
    "ExecuteTime": {
     "end_time": "2018-07-18T23:13:49.121096Z",
     "start_time": "2018-07-18T23:13:49.026086Z"
    },
    "collapsed": true
   },
   "outputs": [],
   "source": [
    "data.dropna(inplace=True)"
   ]
  },
  {
   "cell_type": "code",
   "execution_count": 189,
   "metadata": {
    "ExecuteTime": {
     "end_time": "2018-07-21T21:01:56.768694Z",
     "start_time": "2018-07-21T21:01:56.720405Z"
    }
   },
   "outputs": [
    {
     "data": {
      "text/html": [
       "<div>\n",
       "<style scoped>\n",
       "    .dataframe tbody tr th:only-of-type {\n",
       "        vertical-align: middle;\n",
       "    }\n",
       "\n",
       "    .dataframe tbody tr th {\n",
       "        vertical-align: top;\n",
       "    }\n",
       "\n",
       "    .dataframe thead th {\n",
       "        text-align: right;\n",
       "    }\n",
       "</style>\n",
       "<table border=\"1\" class=\"dataframe\">\n",
       "  <thead>\n",
       "    <tr style=\"text-align: right;\">\n",
       "      <th></th>\n",
       "      <th>asset</th>\n",
       "      <th>tweet_id</th>\n",
       "      <th>timestamp</th>\n",
       "      <th>author_name</th>\n",
       "      <th>author_id</th>\n",
       "      <th>followers</th>\n",
       "      <th>text</th>\n",
       "      <th>truncated</th>\n",
       "      <th>text_clean</th>\n",
       "      <th>text_len</th>\n",
       "      <th>num_words</th>\n",
       "      <th>avg_word_len</th>\n",
       "      <th>vader_pos</th>\n",
       "      <th>vader_neg</th>\n",
       "      <th>vader_neu</th>\n",
       "      <th>vader_comp</th>\n",
       "      <th>proba_pos</th>\n",
       "      <th>label</th>\n",
       "    </tr>\n",
       "  </thead>\n",
       "  <tbody>\n",
       "    <tr>\n",
       "      <th>40156</th>\n",
       "      <td>Bitcoin</td>\n",
       "      <td>1010190932774449152</td>\n",
       "      <td>2018-06-22 16:01:01</td>\n",
       "      <td>Marxist Crypto 🐺⚒🌲</td>\n",
       "      <td>259856497</td>\n",
       "      <td>1742</td>\n",
       "      <td>🐂🐂🐂🐂🐂🐂🐂🐂🐂🐂🐂🐂🐂🐂🐂🐂🐂🐂🐂🐂🐂🐂🐂🐂🐂🐂🐂🐂🐂🐂🐂🐂 Bitcoin bulls...</td>\n",
       "      <td>False</td>\n",
       "      <td>:ox: :ox: :ox: :ox: :ox: :ox: :ox: :ox: :ox: :...</td>\n",
       "      <td>337</td>\n",
       "      <td>58</td>\n",
       "      <td>4.827586</td>\n",
       "      <td>0.0</td>\n",
       "      <td>0.0</td>\n",
       "      <td>1.0</td>\n",
       "      <td>0.0</td>\n",
       "      <td>0.999995</td>\n",
       "      <td>NaN</td>\n",
       "    </tr>\n",
       "  </tbody>\n",
       "</table>\n",
       "</div>"
      ],
      "text/plain": [
       "         asset             tweet_id            timestamp         author_name  \\\n",
       "40156  Bitcoin  1010190932774449152  2018-06-22 16:01:01  Marxist Crypto 🐺⚒🌲   \n",
       "\n",
       "       author_id  followers  \\\n",
       "40156  259856497       1742   \n",
       "\n",
       "                                                    text  truncated  \\\n",
       "40156  🐂🐂🐂🐂🐂🐂🐂🐂🐂🐂🐂🐂🐂🐂🐂🐂🐂🐂🐂🐂🐂🐂🐂🐂🐂🐂🐂🐂🐂🐂🐂🐂 Bitcoin bulls...      False   \n",
       "\n",
       "                                              text_clean  text_len  num_words  \\\n",
       "40156  :ox: :ox: :ox: :ox: :ox: :ox: :ox: :ox: :ox: :...       337         58   \n",
       "\n",
       "       avg_word_len  vader_pos  vader_neg  vader_neu  vader_comp  proba_pos  \\\n",
       "40156      4.827586        0.0        0.0        1.0         0.0   0.999995   \n",
       "\n",
       "       label  \n",
       "40156    NaN  "
      ]
     },
     "execution_count": 189,
     "metadata": {},
     "output_type": "execute_result"
    }
   ],
   "source": [
    "data.head(1)"
   ]
  },
  {
   "cell_type": "code",
   "execution_count": 191,
   "metadata": {
    "ExecuteTime": {
     "end_time": "2018-07-21T21:02:37.517431Z",
     "start_time": "2018-07-21T21:02:35.600720Z"
    },
    "collapsed": true
   },
   "outputs": [],
   "source": [
    "data[\"proba_neg\"] = grid_search.predict_proba(data)[:,0]\n",
    "data.sort_values(by=\"proba_neg\", ascending=False, inplace=True)"
   ]
  },
  {
   "cell_type": "code",
   "execution_count": 192,
   "metadata": {
    "ExecuteTime": {
     "end_time": "2018-07-21T21:03:03.793866Z",
     "start_time": "2018-07-21T21:03:03.152180Z"
    },
    "collapsed": true
   },
   "outputs": [],
   "source": [
    "data[\"label\"] = np.nan\n",
    "data[[\"tweet_id\", \"text\", \"proba_neg\", \"label\"]].to_csv(\"tweets_bitcoin_proba.csv\", index=False)"
   ]
  },
  {
   "cell_type": "markdown",
   "metadata": {},
   "source": [
    "Add labels to existing ones"
   ]
  },
  {
   "cell_type": "code",
   "execution_count": 193,
   "metadata": {
    "ExecuteTime": {
     "end_time": "2018-07-21T21:22:14.024435Z",
     "start_time": "2018-07-21T21:22:13.666748Z"
    },
    "collapsed": true
   },
   "outputs": [],
   "source": [
    "manual = pd.read_csv(\"tweets_bitcoin_proba.csv\").dropna()"
   ]
  },
  {
   "cell_type": "code",
   "execution_count": 194,
   "metadata": {
    "ExecuteTime": {
     "end_time": "2018-07-21T21:22:16.023857Z",
     "start_time": "2018-07-21T21:22:15.961246Z"
    },
    "collapsed": true
   },
   "outputs": [],
   "source": [
    "tweet = pd.read_csv(\"tweets_bitcoin_labels.csv\")"
   ]
  },
  {
   "cell_type": "code",
   "execution_count": 196,
   "metadata": {
    "ExecuteTime": {
     "end_time": "2018-07-21T21:22:46.871308Z",
     "start_time": "2018-07-21T21:22:46.842789Z"
    }
   },
   "outputs": [
    {
     "data": {
      "text/html": [
       "<div>\n",
       "<style scoped>\n",
       "    .dataframe tbody tr th:only-of-type {\n",
       "        vertical-align: middle;\n",
       "    }\n",
       "\n",
       "    .dataframe tbody tr th {\n",
       "        vertical-align: top;\n",
       "    }\n",
       "\n",
       "    .dataframe thead th {\n",
       "        text-align: right;\n",
       "    }\n",
       "</style>\n",
       "<table border=\"1\" class=\"dataframe\">\n",
       "  <thead>\n",
       "    <tr style=\"text-align: right;\">\n",
       "      <th></th>\n",
       "      <th>tweet_id</th>\n",
       "      <th>text</th>\n",
       "      <th>label</th>\n",
       "    </tr>\n",
       "  </thead>\n",
       "  <tbody>\n",
       "    <tr>\n",
       "      <th>0</th>\n",
       "      <td>1010305263885279233</td>\n",
       "      <td>Btc was jus under 6k</td>\n",
       "      <td>-1</td>\n",
       "    </tr>\n",
       "  </tbody>\n",
       "</table>\n",
       "</div>"
      ],
      "text/plain": [
       "              tweet_id                  text  label\n",
       "0  1010305263885279233  Btc was jus under 6k     -1"
      ]
     },
     "execution_count": 196,
     "metadata": {},
     "output_type": "execute_result"
    }
   ],
   "source": [
    "tweet.head(1)"
   ]
  },
  {
   "cell_type": "code",
   "execution_count": 195,
   "metadata": {
    "ExecuteTime": {
     "end_time": "2018-07-21T21:22:43.325403Z",
     "start_time": "2018-07-21T21:22:43.287920Z"
    }
   },
   "outputs": [
    {
     "data": {
      "text/html": [
       "<div>\n",
       "<style scoped>\n",
       "    .dataframe tbody tr th:only-of-type {\n",
       "        vertical-align: middle;\n",
       "    }\n",
       "\n",
       "    .dataframe tbody tr th {\n",
       "        vertical-align: top;\n",
       "    }\n",
       "\n",
       "    .dataframe thead th {\n",
       "        text-align: right;\n",
       "    }\n",
       "</style>\n",
       "<table border=\"1\" class=\"dataframe\">\n",
       "  <thead>\n",
       "    <tr style=\"text-align: right;\">\n",
       "      <th></th>\n",
       "      <th>asset</th>\n",
       "      <th>tweet_id</th>\n",
       "      <th>timestamp</th>\n",
       "      <th>author_name</th>\n",
       "      <th>author_id</th>\n",
       "      <th>followers</th>\n",
       "      <th>text</th>\n",
       "      <th>truncated</th>\n",
       "      <th>text_clean</th>\n",
       "      <th>text_len</th>\n",
       "      <th>num_words</th>\n",
       "      <th>avg_word_len</th>\n",
       "      <th>vader_pos</th>\n",
       "      <th>vader_neg</th>\n",
       "      <th>vader_neu</th>\n",
       "      <th>vader_comp</th>\n",
       "      <th>proba_pos</th>\n",
       "      <th>label</th>\n",
       "      <th>proba_neg</th>\n",
       "    </tr>\n",
       "  </thead>\n",
       "  <tbody>\n",
       "    <tr>\n",
       "      <th>12543</th>\n",
       "      <td>Bitcoin</td>\n",
       "      <td>1010515217531396096</td>\n",
       "      <td>2018-06-23 13:29:36</td>\n",
       "      <td>ok</td>\n",
       "      <td>947746713577463810</td>\n",
       "      <td>2265</td>\n",
       "      <td>Bitcoin Price Drops to Within $100 of 2018 Low...</td>\n",
       "      <td>True</td>\n",
       "      <td>price drop to within num of num low the price ...</td>\n",
       "      <td>88</td>\n",
       "      <td>20</td>\n",
       "      <td>3.45</td>\n",
       "      <td>0.0</td>\n",
       "      <td>0.167</td>\n",
       "      <td>0.833</td>\n",
       "      <td>-0.4939</td>\n",
       "      <td>0.000072</td>\n",
       "      <td>NaN</td>\n",
       "      <td>0.954529</td>\n",
       "    </tr>\n",
       "  </tbody>\n",
       "</table>\n",
       "</div>"
      ],
      "text/plain": [
       "         asset             tweet_id            timestamp author_name  \\\n",
       "12543  Bitcoin  1010515217531396096  2018-06-23 13:29:36          ok   \n",
       "\n",
       "                author_id  followers  \\\n",
       "12543  947746713577463810       2265   \n",
       "\n",
       "                                                    text  truncated  \\\n",
       "12543  Bitcoin Price Drops to Within $100 of 2018 Low...       True   \n",
       "\n",
       "                                              text_clean  text_len  num_words  \\\n",
       "12543  price drop to within num of num low the price ...        88         20   \n",
       "\n",
       "       avg_word_len  vader_pos  vader_neg  vader_neu  vader_comp  proba_pos  \\\n",
       "12543          3.45        0.0      0.167      0.833     -0.4939   0.000072   \n",
       "\n",
       "       label  proba_neg  \n",
       "12543    NaN   0.954529  "
      ]
     },
     "execution_count": 195,
     "metadata": {},
     "output_type": "execute_result"
    }
   ],
   "source": [
    "data.head(1)"
   ]
  },
  {
   "cell_type": "code",
   "execution_count": 197,
   "metadata": {
    "ExecuteTime": {
     "end_time": "2018-07-21T21:23:09.187006Z",
     "start_time": "2018-07-21T21:23:09.140600Z"
    },
    "collapsed": true
   },
   "outputs": [],
   "source": [
    "cols_to_use = [\"tweet_id\", \"text\",]\n",
    "\n",
    "tweet = pd.concat([tweet, pd.merge(data[cols_to_use], manual[[\"tweet_id\", \"label\"]], on=\"tweet_id\")],\n",
    "                  ignore_index=True)"
   ]
  },
  {
   "cell_type": "code",
   "execution_count": 198,
   "metadata": {
    "ExecuteTime": {
     "end_time": "2018-07-21T21:23:10.585858Z",
     "start_time": "2018-07-21T21:23:10.559158Z"
    }
   },
   "outputs": [
    {
     "data": {
      "text/plain": [
       "(1143, 3)"
      ]
     },
     "execution_count": 198,
     "metadata": {},
     "output_type": "execute_result"
    }
   ],
   "source": [
    "tweet.shape"
   ]
  },
  {
   "cell_type": "code",
   "execution_count": 201,
   "metadata": {
    "ExecuteTime": {
     "end_time": "2018-07-21T21:23:39.020068Z",
     "start_time": "2018-07-21T21:23:38.987072Z"
    },
    "collapsed": true
   },
   "outputs": [],
   "source": [
    "tweet.to_csv(\"tweets_bitcoin_labels_2.csv\", index=False)"
   ]
  }
 ],
 "metadata": {
  "hide_input": false,
  "kernelspec": {
   "display_name": "CoinMoodBot",
   "language": "python",
   "name": "coinmoodbot"
  },
  "language_info": {
   "codemirror_mode": {
    "name": "ipython",
    "version": 3
   },
   "file_extension": ".py",
   "mimetype": "text/x-python",
   "name": "python",
   "nbconvert_exporter": "python",
   "pygments_lexer": "ipython3",
   "version": "3.6.4"
  },
  "toc": {
   "base_numbering": 1,
   "nav_menu": {},
   "number_sections": true,
   "sideBar": true,
   "skip_h1_title": false,
   "title_cell": "Table of Contents",
   "title_sidebar": "Contents",
   "toc_cell": false,
   "toc_position": {
    "height": "calc(100% - 180px)",
    "left": "10px",
    "top": "150px",
    "width": "384px"
   },
   "toc_section_display": true,
   "toc_window_display": false
  }
 },
 "nbformat": 4,
 "nbformat_minor": 2
}
